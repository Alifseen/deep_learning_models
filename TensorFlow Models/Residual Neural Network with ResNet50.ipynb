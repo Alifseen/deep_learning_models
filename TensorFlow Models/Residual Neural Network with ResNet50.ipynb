{
 "cells": [
  {
   "cell_type": "code",
   "execution_count": null,
   "id": "7c91251e-7996-4f5d-ab6c-2bca156f366a",
   "metadata": {},
   "outputs": [],
   "source": [
    "import numpy as np\n",
    "import tensorflow as tf\n",
    "import matplotlib.pyplot as plt\n",
    "import h5py\n",
    "\n",
    "import scipy.misc\n",
    "\n",
    "# from utils import *\n",
    "\n",
    "from tensorflow.keras.applications.resnet_v2 import ResNet50V2\n",
    "from tensorflow.keras.preprocessing import image_dataset_from_directory\n",
    "from tensorflow.keras.applications.resnet_v2 import preprocess_input, decode_predictions\n",
    "from tensorflow.keras import layers\n",
    "from tensorflow.keras.layers import Input, Add, Dense, Activation, ZeroPadding2D, Flatten, Conv2D, AveragePooling2D, MaxPooling2D, GlobalMaxPooling2D, BatchNormalization, Dropout\n",
    "from tensorflow.keras.regularizers import l2\n",
    "from tensorflow.keras.models import Model, load_model\n",
    "from tensorflow.keras.initializers import random_uniform, glorot_uniform, constant, identity\n",
    "from tensorflow.python.framework.ops import EagerTensor\n",
    "\n",
    "\n",
    "%matplotlib inline\n",
    "tf.get_logger().setLevel(\"ERROR\")"
   ]
  },
  {
   "cell_type": "code",
   "execution_count": null,
   "id": "f4a162a5-40d8-4400-935a-ba3a575c1fb9",
   "metadata": {},
   "outputs": [],
   "source": [
    "np.random.seed(1)\n",
    "tf.random.set_seed(2)"
   ]
  },
  {
   "cell_type": "markdown",
   "id": "3441833b-fc14-4d44-9e89-a5914895be4a",
   "metadata": {},
   "source": [
    "#### Identity Block\n",
    "When the input activation has the same dimension as the output activation"
   ]
  },
  {
   "cell_type": "code",
   "execution_count": null,
   "id": "fe7a5e9a-de18-42b2-b242-05516ce20d80",
   "metadata": {},
   "outputs": [],
   "source": [
    "def identity_block(X, f, filters, initializer=random_uniform):\n",
    "    F1, F2, F3 = filters\n",
    "\n",
    "    X_shortcut = X\n",
    "\n",
    "    X = Conv2D(filters=F1, kernel_size=1, strides=(1,1), padding=\"valid\", kernel_initializer=initializer(seed=0))(X)\n",
    "    X = BatchNormalization(axis=-1)(X)\n",
    "    X = Activation(\"relu\")(X)\n",
    "\n",
    "    X = Conv2D(filters=F2, kernel_size=f, strides=(1,1), padding='same', kernel_initializer=initializer(seed=0))(X)\n",
    "    X = BatchNormalization(axis=-1)(X)\n",
    "    X = Activation(\"relu\")(X)\n",
    "\n",
    "    X = Conv2D(filters=F3, kernel_size=1, strides=(1,1), padding=\"valid\", kernel_initializer=initializer(seed=0))(X)\n",
    "    X = BatchNormalization(axis=-1)(X)\n",
    "\n",
    "    X = Add()([X, X_shortcut])\n",
    "    X = Activation(\"relu\")(X)\n",
    "\n",
    "    return X"
   ]
  },
  {
   "cell_type": "markdown",
   "id": "1b0492b7-8f4a-4120-89c2-f3c3f1e93bf3",
   "metadata": {},
   "source": [
    "### Convolutional Block\n",
    "\n",
    "When the input and output dimensions don't match up"
   ]
  },
  {
   "cell_type": "code",
   "execution_count": null,
   "id": "86cdbdb0-076d-4ef1-ad28-910e35e50137",
   "metadata": {},
   "outputs": [],
   "source": [
    "def convolutional_block(X, f, filters, s=1, initializer=glorot_uniform):\n",
    "\n",
    "    F1, F2, F3 = filters\n",
    "\n",
    "    X_shortcut = X\n",
    "\n",
    "    X = Conv2D(filters = F1, kernel_size= 1, strides= (s,s), padding=\"valid\", kernel_initializer=initializer(seed=0))(X)\n",
    "    X = BatchNormalization(axis=-1)(X)\n",
    "    X = Activation(\"relu\")(X)\n",
    "\n",
    "    X = Conv2D(filters = F2, kernel_size= f, strides= (1,1), padding=\"same\", kernel_initializer=initializer(seed=0))(X)\n",
    "    X = BatchNormalization(axis=-1)(X)\n",
    "    X = Activation(\"relu\")(X)\n",
    "\n",
    "    X = Conv2D(filters = F3, kernel_size= 1, strides= (1,1), padding=\"valid\", kernel_initializer=initializer(seed=0))(X)\n",
    "    X = BatchNormalization(axis=-1)(X)\n",
    "\n",
    "    X_shortcut = Conv2D(filters = F3, kernel_size= 1, strides= (s,s), padding=\"valid\", kernel_initializer=initializer(seed=0))(X_shortcut)\n",
    "    X_shortcut = BatchNormalization(axis=-1)(X_shortcut)\n",
    "\n",
    "    X = Add()([X, X_shortcut])\n",
    "    X = Activation(\"relu\")(X)\n",
    "\n",
    "    return X"
   ]
  },
  {
   "cell_type": "markdown",
   "id": "17550974-9507-4f6c-9779-02097d3e15ef",
   "metadata": {},
   "source": [
    "### RESNET50 Model"
   ]
  },
  {
   "cell_type": "code",
   "execution_count": null,
   "id": "cc474b74-37cf-41e5-9ce5-fb0368293132",
   "metadata": {},
   "outputs": [],
   "source": [
    "def ResNet50(input_shape=(64,64,3), classes=6):\n",
    "    X_input = Input(input_shape)\n",
    "\n",
    "    X = ZeroPadding2D((3,3))(X_input)\n",
    "\n",
    "    X = Conv2D(64, kernel_size=7, strides=2, kernel_initializer=glorot_uniform(seed=0))(X)\n",
    "    X = BatchNormalization(axis=3)(X)\n",
    "    X = Activation('relu')(X)\n",
    "    X = MaxPooling2D(pool_size=(3,3), strides=(2,2))(X)\n",
    "\n",
    "    X = convolutional_block(X, 3, [64,64,256], 1)\n",
    "    X = identity_block(X, 3, [64,64,256])\n",
    "    X = identity_block(X, 3, [64,64,256])\n",
    "\n",
    "    X = convolutional_block(X, 3, [128,128,512], 2)\n",
    "    X = identity_block(X, 3, [128,128,512])\n",
    "    X = identity_block(X, 3, [128,128,512])\n",
    "    X = identity_block(X, 3, [128,128,512])\n",
    "\n",
    "    X = convolutional_block(X, 3, [256,256,1024], 2)\n",
    "    X = identity_block(X, 3, [256,256,1024])\n",
    "    X = identity_block(X, 3, [256,256,1024])\n",
    "    X = identity_block(X, 3, [256,256,1024])\n",
    "    X = identity_block(X, 3, [256,256,1024])\n",
    "    X = identity_block(X, 3, [256,256,1024])\n",
    "\n",
    "    X = convolutional_block(X, 3, [512,512,2048], 2)\n",
    "    X = identity_block(X, 3, [512,512,2048])\n",
    "    X = identity_block(X, 3, [512,512,2048])\n",
    "\n",
    "    X = AveragePooling2D(2)(X)\n",
    "    X = Flatten()(X)\n",
    "    X = Dense(classes, activation=\"softmax\", kernel_initializer=glorot_uniform(seed=0))(X)\n",
    "\n",
    "    model = Model(inputs=X_input, outputs=X)\n",
    "\n",
    "    return model"
   ]
  },
  {
   "cell_type": "code",
   "execution_count": null,
   "id": "2a309bbc-0d81-437d-97eb-ce49f55f9b16",
   "metadata": {},
   "outputs": [],
   "source": [
    "model1 = ResNet50(input_shape = (64, 64, 3), classes = 6,)\n",
    "# print(model.summary())"
   ]
  },
  {
   "cell_type": "code",
   "execution_count": null,
   "id": "184bb05f-6049-4323-aed7-38e701882c27",
   "metadata": {},
   "outputs": [],
   "source": [
    "opt = tf.keras.optimizers.Adam(learning_rate=0.00015)\n",
    "model1.compile(optimizer=opt, loss='categorical_crossentropy', metrics=['accuracy'])"
   ]
  },
  {
   "cell_type": "code",
   "execution_count": null,
   "id": "90ec7724-ea91-4e53-a402-3316677d831b",
   "metadata": {},
   "outputs": [],
   "source": [
    "def convert_to_one_hot(Y, C):\n",
    "    Y = np.eye(C)[Y.reshape(-1)].T\n",
    "    return Y"
   ]
  },
  {
   "cell_type": "code",
   "execution_count": null,
   "id": "16312746-dfaa-46bc-aa14-122c46fe81ba",
   "metadata": {},
   "outputs": [],
   "source": [
    "train_dataset = h5py.File(\"datasets/train_signs.h5\")\n",
    "train_set_x_orig = np.array(train_dataset[\"train_set_x\"][:])\n",
    "train_set_y_orig = np.array(train_dataset[\"train_set_y\"][:]).reshape(1, -1)\n",
    "\n",
    "test_dataset = h5py.File(\"datasets/test_signs.h5\")\n",
    "test_set_x_orig = np.array(test_dataset[\"test_set_x\"][:])\n",
    "test_set_y_orig = np.array(test_dataset[\"test_set_y\"][:]).reshape(1, -1)\n",
    "\n",
    "classes = np.array(test_dataset[\"list_classes\"][:])\n",
    "\n",
    "xtr = train_set_x_orig/255.\n",
    "xtt = test_set_x_orig/255.\n",
    "\n",
    "ytr = convert_to_one_hot(train_set_y_orig, 6).T\n",
    "ytt = convert_to_one_hot(test_set_y_orig, 6).T"
   ]
  },
  {
   "cell_type": "code",
   "execution_count": null,
   "id": "dbc1dd03-f557-4f55-8094-77ae73c13d0c",
   "metadata": {},
   "outputs": [],
   "source": [
    "model1.fit(xtr, ytr, epochs = 10, batch_size = 32)"
   ]
  },
  {
   "cell_type": "code",
   "execution_count": null,
   "id": "0e4fa2fb-51fb-4dab-ab50-867a42f7f636",
   "metadata": {},
   "outputs": [],
   "source": [
    "preds = model1.evaluate(xtt, ytt)\n",
    "print (\"Loss = \" + str(preds[0]))\n",
    "print (\"Test Accuracy = \" + str(preds[1]))"
   ]
  },
  {
   "cell_type": "code",
   "execution_count": null,
   "id": "8823b3f8-27b1-4f7c-b303-26c688586d16",
   "metadata": {},
   "outputs": [],
   "source": []
  }
 ],
 "metadata": {
  "kernelspec": {
   "display_name": "Python 3.11 (ML)",
   "language": "python",
   "name": "ml3.11"
  },
  "language_info": {
   "codemirror_mode": {
    "name": "ipython",
    "version": 3
   },
   "file_extension": ".py",
   "mimetype": "text/x-python",
   "name": "python",
   "nbconvert_exporter": "python",
   "pygments_lexer": "ipython3",
   "version": "3.11.13"
  }
 },
 "nbformat": 4,
 "nbformat_minor": 5
}
