{
 "cells": [
  {
   "cell_type": "code",
   "execution_count": 1,
   "id": "1ce21dfb-7db0-4cb7-884d-849b144bf02a",
   "metadata": {},
   "outputs": [],
   "source": [
    "import numpy as np\n",
    "import matplotlib.pyplot as plt\n",
    "import sklearn\n",
    "import sklearn.datasets\n",
    "from nn_building_blocks import *\n",
    "\n",
    "%matplotlib inline"
   ]
  },
  {
   "cell_type": "markdown",
   "id": "16895ffe-8424-4a36-b0be-ca63de467056",
   "metadata": {},
   "source": [
    "### Data"
   ]
  },
  {
   "cell_type": "code",
   "execution_count": 2,
   "id": "313374e2-c26c-49b0-891e-f26b57d2195b",
   "metadata": {},
   "outputs": [],
   "source": [
    "np.random.seed(1)\n",
    "train_x, train_y = sklearn.datasets.make_circles(n_samples=300, noise=0.05)\n",
    "np.random.seed(2)\n",
    "test_x, test_y = sklearn.datasets.make_circles(n_samples=100, noise=0.05)\n",
    "\n",
    "train_x = train_x.T\n",
    "test_x = test_x.T\n",
    "\n",
    "train_y = train_y.reshape(1, -1)\n",
    "test_y = test_y.reshape(1, -1)"
   ]
  },
  {
   "cell_type": "code",
   "execution_count": 3,
   "id": "e2172505-28de-48fb-997d-7114c2c2a7c8",
   "metadata": {},
   "outputs": [
    {
     "name": "stdout",
     "output_type": "stream",
     "text": [
      "xtr: (2, 300), xtt: (2, 100), ytr: (1, 300), ytt: (1, 100)\n"
     ]
    }
   ],
   "source": [
    "print(f\"xtr: {train_x.shape}, xtt: {test_x.shape}, ytr: {train_y.shape}, ytt: {test_y.shape}\")"
   ]
  },
  {
   "cell_type": "markdown",
   "id": "6bbeee8a-5e71-4aeb-8033-269b44b93165",
   "metadata": {},
   "source": [
    "### Model"
   ]
  },
  {
   "cell_type": "code",
   "execution_count": 4,
   "id": "78336075-c58c-4065-ac5b-5389fdeb7925",
   "metadata": {},
   "outputs": [],
   "source": [
    "def model(X, Y, learning_rate=0.01, num_iterations=15000, print_cost=True, initialization=\"he\"):\n",
    "    grads = {}\n",
    "    costs = []\n",
    "    m = X.shape[1]\n",
    "    layers_dims = [X.shape[0], 10, 5, 1]\n",
    "\n",
    "    if initialization == \"zeros\":\n",
    "        parameters = initialize_parameters_zeros(layers_dims)\n",
    "    if initialization == \"he\":\n",
    "        parameters = initialize_parameters_he(layers_dims)\n",
    "    if initialization == \"random\":\n",
    "        parameters = initialize_parameters_random(layers_dims)\n",
    "\n",
    "    for i in range(num_iterations):\n",
    "        a, caches = L_model_forward(X, parameters)\n",
    "\n",
    "        cost = compute_cost(a, Y)\n",
    "\n",
    "        grads = L_model_backward_direct(a, Y, caches)\n",
    "\n",
    "        parameters = update_parameters(parameters, grads, learning_rate)\n",
    "        \n",
    "        if i%1000 == 0 and print_cost:\n",
    "            costs.append(cost)\n",
    "            print(f\"Iteration: {i}, Cost: {cost}\")\n",
    "        \n",
    "    return parameters"
   ]
  },
  {
   "cell_type": "markdown",
   "id": "b028e6bf-a09b-4173-a1aa-88f11b3a164d",
   "metadata": {},
   "source": [
    "### Initialization with Zero"
   ]
  },
  {
   "cell_type": "code",
   "execution_count": 5,
   "id": "eed6df14-d04a-40a7-b392-bd1cdee4c893",
   "metadata": {},
   "outputs": [],
   "source": [
    "def initialize_parameters_zeros(layers_dims):\n",
    "    parameters = {}\n",
    "    L = len(layers_dims)\n",
    "\n",
    "    for l in range(1, L):\n",
    "        parameters[\"W\"+str(l)] = np.zeros((layers_dims[l], layers_dims[l-1]))\n",
    "        parameters[\"b\"+str(l)] = np.zeros((layers_dims[l],1))\n",
    "    \n",
    "    return parameters"
   ]
  },
  {
   "cell_type": "code",
   "execution_count": 6,
   "id": "cc4ccd60-f8b7-4d79-84a7-fa60dbabf7e5",
   "metadata": {},
   "outputs": [
    {
     "name": "stdout",
     "output_type": "stream",
     "text": [
      "Iteration: 0, Cost: 0.6931471805599453\n",
      "Iteration: 1000, Cost: 0.6931471805599453\n",
      "Iteration: 2000, Cost: 0.6931471805599453\n",
      "Iteration: 3000, Cost: 0.6931471805599453\n",
      "Iteration: 4000, Cost: 0.6931471805599453\n",
      "Iteration: 5000, Cost: 0.6931471805599453\n",
      "Iteration: 6000, Cost: 0.6931471805599453\n",
      "Iteration: 7000, Cost: 0.6931471805599453\n",
      "Iteration: 8000, Cost: 0.6931471805599453\n",
      "Iteration: 9000, Cost: 0.6931471805599453\n",
      "Iteration: 10000, Cost: 0.6931471805599453\n",
      "Iteration: 11000, Cost: 0.6931471805599453\n",
      "Iteration: 12000, Cost: 0.6931471805599453\n",
      "Iteration: 13000, Cost: 0.6931471805599453\n",
      "Iteration: 14000, Cost: 0.6931471805599453\n",
      "On the train set:\n",
      "Accuracy: 0.49999999999999994\n",
      "On the test set:\n",
      "Accuracy: 0.5\n"
     ]
    }
   ],
   "source": [
    "parameters = model(train_x, train_y, initialization = \"zeros\")\n",
    "print (\"On the train set:\")\n",
    "predictions_train = predict(train_x, train_y, parameters)\n",
    "print (\"On the test set:\")\n",
    "predictions_test = predict(test_x, test_y, parameters)"
   ]
  },
  {
   "cell_type": "code",
   "execution_count": 7,
   "id": "1cf01f94-e943-4e1a-a3ee-7f04ac6ed9ee",
   "metadata": {},
   "outputs": [
    {
     "name": "stdout",
     "output_type": "stream",
     "text": [
      "predictions_train = [[0. 0. 0. 0. 0. 0. 0. 0. 0. 0. 0. 0. 0. 0. 0. 0. 0. 0. 0. 0. 0. 0. 0. 0.\n",
      "  0. 0. 0. 0. 0. 0. 0. 0. 0. 0. 0. 0. 0. 0. 0. 0. 0. 0. 0. 0. 0. 0. 0. 0.\n",
      "  0. 0. 0. 0. 0. 0. 0. 0. 0. 0. 0. 0. 0. 0. 0. 0. 0. 0. 0. 0. 0. 0. 0. 0.\n",
      "  0. 0. 0. 0. 0. 0. 0. 0. 0. 0. 0. 0. 0. 0. 0. 0. 0. 0. 0. 0. 0. 0. 0. 0.\n",
      "  0. 0. 0. 0. 0. 0. 0. 0. 0. 0. 0. 0. 0. 0. 0. 0. 0. 0. 0. 0. 0. 0. 0. 0.\n",
      "  0. 0. 0. 0. 0. 0. 0. 0. 0. 0. 0. 0. 0. 0. 0. 0. 0. 0. 0. 0. 0. 0. 0. 0.\n",
      "  0. 0. 0. 0. 0. 0. 0. 0. 0. 0. 0. 0. 0. 0. 0. 0. 0. 0. 0. 0. 0. 0. 0. 0.\n",
      "  0. 0. 0. 0. 0. 0. 0. 0. 0. 0. 0. 0. 0. 0. 0. 0. 0. 0. 0. 0. 0. 0. 0. 0.\n",
      "  0. 0. 0. 0. 0. 0. 0. 0. 0. 0. 0. 0. 0. 0. 0. 0. 0. 0. 0. 0. 0. 0. 0. 0.\n",
      "  0. 0. 0. 0. 0. 0. 0. 0. 0. 0. 0. 0. 0. 0. 0. 0. 0. 0. 0. 0. 0. 0. 0. 0.\n",
      "  0. 0. 0. 0. 0. 0. 0. 0. 0. 0. 0. 0. 0. 0. 0. 0. 0. 0. 0. 0. 0. 0. 0. 0.\n",
      "  0. 0. 0. 0. 0. 0. 0. 0. 0. 0. 0. 0. 0. 0. 0. 0. 0. 0. 0. 0. 0. 0. 0. 0.\n",
      "  0. 0. 0. 0. 0. 0. 0. 0. 0. 0. 0. 0.]]\n",
      "predictions_test = [[0. 0. 0. 0. 0. 0. 0. 0. 0. 0. 0. 0. 0. 0. 0. 0. 0. 0. 0. 0. 0. 0. 0. 0.\n",
      "  0. 0. 0. 0. 0. 0. 0. 0. 0. 0. 0. 0. 0. 0. 0. 0. 0. 0. 0. 0. 0. 0. 0. 0.\n",
      "  0. 0. 0. 0. 0. 0. 0. 0. 0. 0. 0. 0. 0. 0. 0. 0. 0. 0. 0. 0. 0. 0. 0. 0.\n",
      "  0. 0. 0. 0. 0. 0. 0. 0. 0. 0. 0. 0. 0. 0. 0. 0. 0. 0. 0. 0. 0. 0. 0. 0.\n",
      "  0. 0. 0. 0.]]\n"
     ]
    }
   ],
   "source": [
    "print (\"predictions_train = \" + str(predictions_train))\n",
    "print (\"predictions_test = \" + str(predictions_test))"
   ]
  },
  {
   "cell_type": "markdown",
   "id": "65f52ea6-a534-4c69-8981-75f4c1e30e96",
   "metadata": {},
   "source": [
    "### Random Initialization"
   ]
  },
  {
   "cell_type": "code",
   "execution_count": 8,
   "id": "5ea27146-b705-41eb-aeef-ce5b7528b8fc",
   "metadata": {},
   "outputs": [],
   "source": [
    "def initialize_parameters_random(layers_dims):\n",
    "    np.random.seed(3)\n",
    "\n",
    "    parameters = {}\n",
    "    L = len(layers_dims)\n",
    "\n",
    "    for l in range(1, L):\n",
    "        parameters[\"W\"+str(l)] = np.random.randn(layers_dims[l], layers_dims[l-1]) *10\n",
    "        parameters[\"b\"+str(l)] = np.zeros((layers_dims[l],1))\n",
    "    \n",
    "    return parameters"
   ]
  },
  {
   "cell_type": "code",
   "execution_count": 9,
   "id": "6dcccea4-01ea-4c01-bb45-300a5eb9db4b",
   "metadata": {},
   "outputs": [
    {
     "name": "stdout",
     "output_type": "stream",
     "text": [
      "Iteration: 0, Cost: 9.210340374463804\n",
      "Iteration: 1000, Cost: 0.623512425116246\n",
      "Iteration: 2000, Cost: 0.5980285353496083\n",
      "Iteration: 3000, Cost: 0.5637588759264507\n",
      "Iteration: 4000, Cost: 0.550129164316716\n",
      "Iteration: 5000, Cost: 0.5443912524095811\n",
      "Iteration: 6000, Cost: 0.5373941531431123\n",
      "Iteration: 7000, Cost: 0.4719665456120671\n",
      "Iteration: 8000, Cost: 0.3977144611087088\n",
      "Iteration: 9000, Cost: 0.3934615541436534\n",
      "Iteration: 10000, Cost: 0.3920182225771582\n",
      "Iteration: 11000, Cost: 0.38916178926058476\n",
      "Iteration: 12000, Cost: 0.3861308984664629\n",
      "Iteration: 13000, Cost: 0.384985268560082\n",
      "Iteration: 14000, Cost: 0.38276638968571663\n",
      "On the train set:\n",
      "Accuracy: 0.8300000000000001\n",
      "On the test set:\n",
      "Accuracy: 0.8599999999999999\n"
     ]
    }
   ],
   "source": [
    "parameters = model(train_x, train_y, initialization = \"random\")\n",
    "print (\"On the train set:\")\n",
    "predictions_train = predict(train_x, train_y, parameters)\n",
    "print (\"On the test set:\")\n",
    "predictions_test = predict(test_x, test_y, parameters)"
   ]
  },
  {
   "cell_type": "markdown",
   "id": "dba1b04d-f006-408e-b774-730654359f38",
   "metadata": {},
   "source": [
    "### HE Initialization"
   ]
  },
  {
   "cell_type": "code",
   "execution_count": 10,
   "id": "d957bedf-5fb7-4bf4-9bf2-67c5c81f5c5c",
   "metadata": {},
   "outputs": [],
   "source": [
    "def initialize_parameters_he(layers_dims):\n",
    "    np.random.seed(3)\n",
    "\n",
    "    parameters = {}\n",
    "    L = len(layers_dims)\n",
    "\n",
    "    for l in range(1, L):\n",
    "        parameters[\"W\"+str(l)] = np.random.randn(layers_dims[l], layers_dims[l-1]) *np.sqrt(2./layers_dims[l-1])\n",
    "        parameters[\"b\"+str(l)] = np.zeros((layers_dims[l],1))\n",
    "    \n",
    "    return parameters"
   ]
  },
  {
   "cell_type": "code",
   "execution_count": 11,
   "id": "f0f6a6e7-b1cc-4309-9998-cb113eb900d4",
   "metadata": {},
   "outputs": [
    {
     "name": "stdout",
     "output_type": "stream",
     "text": [
      "Iteration: 0, Cost: 0.8830537463419761\n",
      "Iteration: 1000, Cost: 0.6879825919728063\n",
      "Iteration: 2000, Cost: 0.6751286264523371\n",
      "Iteration: 3000, Cost: 0.6526117768893807\n",
      "Iteration: 4000, Cost: 0.6082958970572938\n",
      "Iteration: 5000, Cost: 0.5304944491717495\n",
      "Iteration: 6000, Cost: 0.41386458170717944\n",
      "Iteration: 7000, Cost: 0.31178034648444414\n",
      "Iteration: 8000, Cost: 0.23696215330322565\n",
      "Iteration: 9000, Cost: 0.18597287209206842\n",
      "Iteration: 10000, Cost: 0.1501555628037181\n",
      "Iteration: 11000, Cost: 0.12325079292273552\n",
      "Iteration: 12000, Cost: 0.09917746546525937\n",
      "Iteration: 13000, Cost: 0.08457055954024281\n",
      "Iteration: 14000, Cost: 0.07357895962677372\n",
      "On the train set:\n",
      "Accuracy: 0.9933333333333335\n",
      "On the test set:\n",
      "Accuracy: 0.96\n"
     ]
    }
   ],
   "source": [
    "parameters = model(train_x, train_y, initialization = \"he\")\n",
    "print (\"On the train set:\")\n",
    "predictions_train = predict(train_x, train_y, parameters)\n",
    "print (\"On the test set:\")\n",
    "predictions_test = predict(test_x, test_y, parameters)"
   ]
  },
  {
   "cell_type": "code",
   "execution_count": null,
   "id": "a8fca56a-865c-4b81-8ccd-d4cc31a54556",
   "metadata": {},
   "outputs": [],
   "source": []
  }
 ],
 "metadata": {
  "kernelspec": {
   "display_name": "Python 3.11 (ML)",
   "language": "python",
   "name": "ml3.11"
  },
  "language_info": {
   "codemirror_mode": {
    "name": "ipython",
    "version": 3
   },
   "file_extension": ".py",
   "mimetype": "text/x-python",
   "name": "python",
   "nbconvert_exporter": "python",
   "pygments_lexer": "ipython3",
   "version": "3.11.13"
  }
 },
 "nbformat": 4,
 "nbformat_minor": 5
}
