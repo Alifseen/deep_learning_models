{
 "cells": [
  {
   "cell_type": "code",
   "execution_count": 1,
   "id": "d993317f-3feb-4b53-9780-c1159108ee2c",
   "metadata": {},
   "outputs": [],
   "source": [
    "import numpy as np\n",
    "import h5py\n",
    "import scipy\n",
    "import matplotlib.pyplot as plt\n",
    "from PIL import Image\n",
    "from scipy import ndimage\n",
    "\n",
    "# from utils import *\n",
    "from nn_building_blocks import *\n",
    "\n",
    "%matplotlib inline"
   ]
  },
  {
   "cell_type": "markdown",
   "id": "f6268024-5eeb-4476-829c-99848ab92923",
   "metadata": {},
   "source": [
    "### Dataset"
   ]
  },
  {
   "cell_type": "code",
   "execution_count": 2,
   "id": "a0f04136-cf6c-4fc0-9ec5-1b72b4e434ee",
   "metadata": {},
   "outputs": [],
   "source": [
    "train_dataset = h5py.File('datasets/train_catvnoncat.h5')\n",
    "train_x_orig = np.array(train_dataset[\"train_set_x\"][:])\n",
    "train_y = np.array(train_dataset[\"train_set_y\"][:])\n",
    "train_y = train_y.reshape(1, -1)"
   ]
  },
  {
   "cell_type": "code",
   "execution_count": 3,
   "id": "35fe1d85-64a4-40a4-a0fe-97ee9bd78666",
   "metadata": {},
   "outputs": [],
   "source": [
    "test_dataset = h5py.File('datasets/test_catvnoncat.h5')\n",
    "test_x_orig = np.array(test_dataset[\"test_set_x\"][:])\n",
    "test_y = np.array(test_dataset[\"test_set_y\"][:])\n",
    "test_y = test_y.reshape(1, -1)"
   ]
  },
  {
   "cell_type": "code",
   "execution_count": 4,
   "id": "55019b87-017d-4bd3-8cc9-06f9124e2b48",
   "metadata": {},
   "outputs": [],
   "source": [
    "classes = np.array(test_dataset[\"list_classes\"][:])"
   ]
  },
  {
   "cell_type": "code",
   "execution_count": 5,
   "id": "676cf02e-65ef-46a3-b83d-7c16663b9f8d",
   "metadata": {},
   "outputs": [
    {
     "data": {
      "image/png": "[encoded data removed]",
      "text/plain": [
       "<Figure size 640x480 with 1 Axes>"
      ]
     },
     "metadata": {},
     "output_type": "display_data"
    },
    {
     "name": "stdout",
     "output_type": "stream",
     "text": [
      "y = 0. It's a non-cat picture.\n"
     ]
    }
   ],
   "source": [
    "# Example of a picture\n",
    "index = 10\n",
    "plt.imshow(train_x_orig[index])\n",
    "plt.show()\n",
    "print (\"y = \" + str(train_y[0,index]) + \". It's a \" + classes[train_y[0,index]].decode(\"utf-8\") +  \" picture.\")"
   ]
  },
  {
   "cell_type": "code",
   "execution_count": 6,
   "id": "f791e971-abcc-4bc9-87b9-de051748f494",
   "metadata": {},
   "outputs": [],
   "source": [
    "training_examples = train_x_orig.shape[0]\n",
    "test_examples = test_x_orig.shape[0]\n",
    "num_px = train_x_orig.shape[1]"
   ]
  },
  {
   "cell_type": "code",
   "execution_count": 7,
   "id": "b4169950-c525-46da-811f-e654b11b3712",
   "metadata": {},
   "outputs": [
    {
     "name": "stdout",
     "output_type": "stream",
     "text": [
      "Number of training examples: 209\n",
      "Number of testing examples: 50\n",
      "Each image is of size: (64, 64, 3)\n",
      "train_x_orig shape: (209, 64, 64, 3)\n",
      "train_y shape: (1, 209)\n",
      "test_x_orig shape: (50, 64, 64, 3)\n",
      "test_y shape: (1, 50)\n"
     ]
    }
   ],
   "source": [
    "print (\"Number of training examples: \" + str(training_examples))\n",
    "print (\"Number of testing examples: \" + str(test_examples))\n",
    "print (\"Each image is of size: (\" + str(num_px) + \", \" + str(num_px) + \", 3)\")\n",
    "print (\"train_x_orig shape: \" + str(train_x_orig.shape))\n",
    "print (\"train_y shape: \" + str(train_y.shape))\n",
    "print (\"test_x_orig shape: \" + str(test_x_orig.shape))\n",
    "print (\"test_y shape: \" + str(test_y.shape))"
   ]
  },
  {
   "cell_type": "code",
   "execution_count": 8,
   "id": "93166e2b-bc1c-40ce-9ff4-7733ee93bab3",
   "metadata": {},
   "outputs": [],
   "source": [
    "train_x_flatten = train_x_orig.reshape(training_examples, -1)\n",
    "test_x_flatten = test_x_orig.reshape(test_examples, -1)"
   ]
  },
  {
   "cell_type": "code",
   "execution_count": 9,
   "id": "a91312b3-fb3d-44a1-9e0d-1cc1f72a0106",
   "metadata": {},
   "outputs": [],
   "source": [
    "train_x = train_x_flatten / 255\n",
    "test_x = test_x_flatten / 255"
   ]
  },
  {
   "cell_type": "code",
   "execution_count": 10,
   "id": "93d917ef-f9d4-4874-8101-1927ff42ace5",
   "metadata": {},
   "outputs": [],
   "source": [
    "xtr = train_x.T\n",
    "xtt = test_x.T"
   ]
  },
  {
   "cell_type": "code",
   "execution_count": 11,
   "id": "342a5eea-3419-4db8-8a48-9cf163d72f59",
   "metadata": {},
   "outputs": [
    {
     "name": "stdout",
     "output_type": "stream",
     "text": [
      "train_x's shape: (209, 12288)\n",
      "test_x's shape: (50, 12288)\n"
     ]
    }
   ],
   "source": [
    "print (\"train_x's shape: \" + str(train_x.shape))\n",
    "print (\"test_x's shape: \" + str(test_x.shape))"
   ]
  },
  {
   "cell_type": "markdown",
   "id": "3a46ba55-987b-4118-a743-7a164007c925",
   "metadata": {},
   "source": [
    "### The 2 Layer Model"
   ]
  },
  {
   "cell_type": "code",
   "execution_count": 12,
   "id": "a3fab706-7b8b-4855-91ea-63ed93b01f69",
   "metadata": {},
   "outputs": [],
   "source": [
    "n_x = 12288\n",
    "n_h = 7\n",
    "n_y = 1\n",
    "layers_dims = (n_x, n_h, n_y)\n",
    "learning_rate = 0.0075"
   ]
  },
  {
   "cell_type": "code",
   "execution_count": 13,
   "id": "552037fa-b261-4cda-86d0-fd63b7ecd07f",
   "metadata": {},
   "outputs": [],
   "source": [
    "def two_layer_model(X, Y, layers_dims, learning_rate=0.0075, num_iterations=3000, print_cost=False):\n",
    "    \n",
    "    np.random.seed(1)\n",
    "    grads = {}\n",
    "    costs= []\n",
    "    m = X.shape[1]\n",
    "\n",
    "    (nx, nh, ny) = layers_dims\n",
    "    \n",
    "    parameters = initialize_parameters(nx, nh, ny)\n",
    "\n",
    "    W1 = parameters[\"W1\"]\n",
    "    b1 = parameters[\"b1\"]\n",
    "    W2 = parameters[\"W2\"]\n",
    "    b2 = parameters[\"b2\"]\n",
    "\n",
    "    for i in range(num_iterations):\n",
    "        A1, cache1 = linear_activation_forward(X, W1, b1, \"relu\")\n",
    "        A2, cache2 = linear_activation_forward(A1, W2, b2, \"sigmoid\")\n",
    "\n",
    "        cost = compute_cost(A2, Y)\n",
    "\n",
    "        dA2 = - (np.divide(Y, A2) - np.divide(1 - Y, 1 - A2))\n",
    "\n",
    "        dA1, dW2, db2 = linear_activation_backward(dA2, cache2, \"sigmoid\")\n",
    "        dX, dW1, db1 = linear_activation_backward(dA1, cache1, \"relu\")\n",
    "\n",
    "        grads[\"dW1\"] = dW1\n",
    "        grads[\"dW2\"] = dW2\n",
    "        grads[\"db1\"] = db1\n",
    "        grads[\"db2\"] = db2\n",
    "\n",
    "        parameters = update_parameters(parameters, grads, learning_rate)\n",
    "\n",
    "        W1 = parameters[\"W1\"]\n",
    "        b1 = parameters[\"b1\"]\n",
    "        W2 = parameters[\"W2\"]\n",
    "        b2 = parameters[\"b2\"]\n",
    "\n",
    "        if print_cost and (i % 100 == 0 or i ==num_iterations-1):\n",
    "            print(\"Cost after iteration {}: {}\".format(i, np.squeeze(cost)))\n",
    "        if i % 100 ==0:\n",
    "            costs.append(cost)\n",
    "\n",
    "    return parameters, costs"
   ]
  },
  {
   "cell_type": "code",
   "execution_count": 14,
   "id": "cc791d2d-5984-4461-ac0b-3f165811ed1b",
   "metadata": {},
   "outputs": [],
   "source": [
    "def plot_costs(costs, learning_rate=0.0075):\n",
    "    plt.plot(np.squeeze(costs))\n",
    "    plt.ylabel('cost')\n",
    "    plt.xlabel('iterations (per hundreds)')\n",
    "    plt.title(\"Learning rate =\" + str(learning_rate))\n",
    "    plt.show()"
   ]
  },
  {
   "cell_type": "code",
   "execution_count": 15,
   "id": "3615e3cb-c2d7-4864-b839-f7113f5f6daa",
   "metadata": {},
   "outputs": [
    {
     "name": "stdout",
     "output_type": "stream",
     "text": [
      "Cost after first iteration: 0.693049735659989\n"
     ]
    }
   ],
   "source": [
    "parameters, costs = two_layer_model(xtr, train_y, layers_dims = (n_x, n_h, n_y), num_iterations = 2, print_cost=False)\n",
    "\n",
    "print(\"Cost after first iteration: \" + str(costs[0]))"
   ]
  },
  {
   "cell_type": "code",
   "execution_count": 16,
   "id": "7470d40b-10ad-42a7-9fb8-d264e7778e15",
   "metadata": {},
   "outputs": [
    {
     "name": "stdout",
     "output_type": "stream",
     "text": [
      "Cost after iteration 0: 0.693049735659989\n",
      "Cost after iteration 100: 0.6464320953428849\n",
      "Cost after iteration 200: 0.6325140647912677\n",
      "Cost after iteration 300: 0.6015024920354665\n",
      "Cost after iteration 400: 0.5601966311605747\n",
      "Cost after iteration 500: 0.5158304772764729\n",
      "Cost after iteration 600: 0.4754901313943325\n",
      "Cost after iteration 700: 0.4339163151225749\n",
      "Cost after iteration 800: 0.4007977536203885\n",
      "Cost after iteration 900: 0.3580705011323798\n",
      "Cost after iteration 1000: 0.3394281538366412\n",
      "Cost after iteration 1100: 0.3052753636196265\n",
      "Cost after iteration 1200: 0.27491377282130164\n",
      "Cost after iteration 1300: 0.2468176821061486\n",
      "Cost after iteration 1400: 0.19850735037466094\n",
      "Cost after iteration 1500: 0.17448318112556635\n",
      "Cost after iteration 1600: 0.1708076297809693\n",
      "Cost after iteration 1700: 0.11306524562164719\n",
      "Cost after iteration 1800: 0.09629426845937154\n",
      "Cost after iteration 1900: 0.08342617959726871\n",
      "Cost after iteration 2000: 0.0743907870431909\n",
      "Cost after iteration 2100: 0.06630748132267937\n",
      "Cost after iteration 2200: 0.05919329501038176\n",
      "Cost after iteration 2300: 0.053361403485605606\n",
      "Cost after iteration 2400: 0.04855478562877021\n",
      "Cost after iteration 2499: 0.04421498215868956\n"
     ]
    },
    {
     "data": {
      "image/png": "[encoded data removed]",
      "text/plain": [
       "<Figure size 640x480 with 1 Axes>"
      ]
     },
     "metadata": {},
     "output_type": "display_data"
    }
   ],
   "source": [
    "parameters, costs = two_layer_model(xtr, train_y, layers_dims = (n_x, n_h, n_y), num_iterations = 2500, print_cost=True)\n",
    "plot_costs(costs, learning_rate)"
   ]
  },
  {
   "cell_type": "code",
   "execution_count": 17,
   "id": "3d8b6159-dee2-406d-852f-4b77048cb1a4",
   "metadata": {},
   "outputs": [
    {
     "name": "stdout",
     "output_type": "stream",
     "text": [
      "Accuracy: 0.9999999999999998\n"
     ]
    }
   ],
   "source": [
    "predictions_train = predict(xtr, train_y, parameters)"
   ]
  },
  {
   "cell_type": "code",
   "execution_count": 18,
   "id": "ed288431-d9e5-4669-b8c1-05287c7f21bd",
   "metadata": {},
   "outputs": [
    {
     "name": "stdout",
     "output_type": "stream",
     "text": [
      "Accuracy: 0.72\n"
     ]
    }
   ],
   "source": [
    "predictions_test = predict(xtt, test_y, parameters)"
   ]
  },
  {
   "cell_type": "markdown",
   "id": "3bdd840a-1ab3-47f3-abb6-134cf091f0c8",
   "metadata": {},
   "source": [
    "### L Layered Neural Network"
   ]
  },
  {
   "cell_type": "code",
   "execution_count": 19,
   "id": "c5b74565-ad16-41d9-8f93-34a1f25eb812",
   "metadata": {},
   "outputs": [],
   "source": [
    "layers_dims = [12288, 20, 7, 5, 1]"
   ]
  },
  {
   "cell_type": "code",
   "execution_count": 20,
   "id": "4c502a32-4174-4100-9a6b-f34460b916f3",
   "metadata": {},
   "outputs": [],
   "source": [
    "def L_layer_model(X, Y, layers_dims, learning_rate=0.0075, num_iterations=3000, print_cost=False):\n",
    "    np.random.seed(1)\n",
    "    costs = []\n",
    "\n",
    "    parameters = initialize_parameters_deep_xavier(layers_dims)\n",
    "\n",
    "    for i in range(num_iterations):\n",
    "        AL, caches = L_model_forward(X, parameters)\n",
    "        \n",
    "        cost = compute_cost(AL, Y)\n",
    "        \n",
    "        grads = L_model_backward(AL, Y, caches)\n",
    "\n",
    "        parameters = update_parameters(parameters, grads, learning_rate)\n",
    "\n",
    "        if print_cost and (i%100 == 0 or i==num_iterations-1):\n",
    "            print(\"Cost after iteration {}: {}\".format(i, np.squeeze(cost)))\n",
    "        if i%100==0:\n",
    "            costs.append(cost)\n",
    "    \n",
    "    return parameters, costs"
   ]
  },
  {
   "cell_type": "code",
   "execution_count": 21,
   "id": "9243e440-c176-4d46-bf45-dd61e53704f0",
   "metadata": {},
   "outputs": [
    {
     "name": "stdout",
     "output_type": "stream",
     "text": [
      "Cost after first iteration: 0.7717493284237688\n"
     ]
    }
   ],
   "source": [
    "parameters, costs = L_layer_model(xtr, train_y, layers_dims, num_iterations = 1, print_cost = False)\n",
    "\n",
    "print(\"Cost after first iteration: \" + str(costs[0]))"
   ]
  },
  {
   "cell_type": "code",
   "execution_count": 22,
   "id": "09c2902b-542f-4b38-8509-85c25d0c8857",
   "metadata": {},
   "outputs": [
    {
     "name": "stdout",
     "output_type": "stream",
     "text": [
      "Cost after iteration 0: 0.7717493284237688\n",
      "Cost after iteration 100: 0.6720534400822913\n",
      "Cost after iteration 200: 0.6482632048575212\n",
      "Cost after iteration 300: 0.6115068816101354\n",
      "Cost after iteration 400: 0.567047326836611\n",
      "Cost after iteration 500: 0.5401376634547801\n",
      "Cost after iteration 600: 0.5279299569455267\n",
      "Cost after iteration 700: 0.4654773771766852\n",
      "Cost after iteration 800: 0.369125852495928\n",
      "Cost after iteration 900: 0.3917469743480534\n",
      "Cost after iteration 1000: 0.3151869888600617\n",
      "Cost after iteration 1100: 0.2726998441789385\n",
      "Cost after iteration 1200: 0.23741853400268131\n",
      "Cost after iteration 1300: 0.19960120532208647\n",
      "Cost after iteration 1400: 0.18926300388463302\n",
      "Cost after iteration 1500: 0.1611885466582775\n",
      "Cost after iteration 1600: 0.1482138966236332\n",
      "Cost after iteration 1700: 0.13777487812972944\n",
      "Cost after iteration 1800: 0.1297401754919012\n",
      "Cost after iteration 1900: 0.12122535068005211\n",
      "Cost after iteration 2000: 0.1138206066863371\n",
      "Cost after iteration 2100: 0.10783928526254132\n",
      "Cost after iteration 2200: 0.10285466069352679\n",
      "Cost after iteration 2300: 0.10089745445261787\n",
      "Cost after iteration 2400: 0.09287821526472397\n",
      "Cost after iteration 2499: 0.088439943441702\n"
     ]
    }
   ],
   "source": [
    "parameters, costs = L_layer_model(xtr, train_y, layers_dims, num_iterations = 2500, print_cost = True)"
   ]
  },
  {
   "cell_type": "code",
   "execution_count": 23,
   "id": "47a835a5-2938-41f4-bf75-4f57a0b75948",
   "metadata": {},
   "outputs": [
    {
     "name": "stdout",
     "output_type": "stream",
     "text": [
      "Accuracy: 0.9856459330143539\n"
     ]
    }
   ],
   "source": [
    "pred_train = predict(xtr, train_y, parameters)"
   ]
  },
  {
   "cell_type": "code",
   "execution_count": 24,
   "id": "b0f5c8fc-b0d2-4b22-a2f6-e5776fcc306c",
   "metadata": {},
   "outputs": [
    {
     "name": "stdout",
     "output_type": "stream",
     "text": [
      "Accuracy: 0.8\n"
     ]
    }
   ],
   "source": [
    "pred_test = predict(xtt, test_y, parameters)"
   ]
  },
  {
   "cell_type": "code",
   "execution_count": 25,
   "id": "78fe5094-ccbc-4466-b882-40011c742def",
   "metadata": {},
   "outputs": [
    {
     "data": {
      "image/png": "[encoded data removed]",
      "text/plain": [
       "<Figure size 640x480 with 1 Axes>"
      ]
     },
     "metadata": {},
     "output_type": "display_data"
    },
    {
     "name": "stdout",
     "output_type": "stream",
     "text": [
      "Accuracy: 0.0\n",
      "y = 0.0, your L-layer model predicts a \"non-cat\" picture.\n"
     ]
    }
   ],
   "source": [
    "## START CODE HERE ##\n",
    "my_image = \"goat-2775034_960_720-3704390797.jpg\" # change this to the name of your image file \n",
    "my_label_y = [1] # the true class of your image (1 -> cat, 0 -> non-cat)\n",
    "## END CODE HERE ##\n",
    "\n",
    "fname = my_image\n",
    "image = np.array(Image.open(fname).resize((num_px, num_px)))\n",
    "plt.imshow(image)\n",
    "plt.show()\n",
    "image = image / 255.\n",
    "image = image.reshape((1, num_px * num_px * 3)).T\n",
    "\n",
    "my_predicted_image = predict(image, my_label_y, parameters)\n",
    "\n",
    "\n",
    "print (\"y = \" + str(np.squeeze(my_predicted_image)) + \", your L-layer model predicts a \\\"\" + classes[int(np.squeeze(my_predicted_image)),].decode(\"utf-8\") +  \"\\\" picture.\")"
   ]
  },
  {
   "cell_type": "code",
   "execution_count": null,
   "id": "843e6e67-ec0f-45dd-8fb3-e9ea5a49e996",
   "metadata": {},
   "outputs": [],
   "source": []
  }
 ],
 "metadata": {
  "kernelspec": {
   "display_name": "Python 3.11 (ML)",
   "language": "python",
   "name": "ml3.11"
  },
  "language_info": {
   "codemirror_mode": {
    "name": "ipython",
    "version": 3
   },
   "file_extension": ".py",
   "mimetype": "text/x-python",
   "name": "python",
   "nbconvert_exporter": "python",
   "pygments_lexer": "ipython3",
   "version": "3.11.13"
  }
 },
 "nbformat": 4,
 "nbformat_minor": 5
}
