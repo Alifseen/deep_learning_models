{
 "cells": [
  {
   "cell_type": "code",
   "execution_count": 4,
   "id": "099915a3-4195-4790-965c-ee362d6d48ba",
   "metadata": {},
   "outputs": [],
   "source": [
    "import numpy as np\n",
    "import matplotlib.pyplot as plt\n",
    "import scipy.io\n",
    "import math\n",
    "import sklearn\n",
    "import sklearn.datasets\n",
    "\n",
    "from copy import deepcopy\n",
    "from utils import *\n",
    "\n",
    "%matplotlib inline"
   ]
  },
  {
   "cell_type": "markdown",
   "id": "4727f90f-f188-47e8-a7bc-4ab3ec94ecee",
   "metadata": {},
   "source": [
    "### Batch Gradient Decsent"
   ]
  },
  {
   "cell_type": "code",
   "execution_count": 5,
   "id": "b1e3c8da-2119-450a-ad69-504841a05ea9",
   "metadata": {},
   "outputs": [],
   "source": [
    "def update_parameters_with_gd(parameters, grads, learning_rate):\n",
    "    L = len(parameters)//2\n",
    "\n",
    "    for l in range(1, L+1):\n",
    "        parameters[\"W\"+str(l)] = parameters[\"W\"+str(l)] - (learning_rate * grads[\"dW\"+str(l)])\n",
    "        parameters[\"b\"+str(l)] = parameters[\"b\"+str(l)] - (learning_rate * grads[\"db\"+str(l)])\n",
    "\n",
    "    return parameters"
   ]
  },
  {
   "cell_type": "markdown",
   "id": "7c91dd57-6510-42da-95c7-fa0ab350c30d",
   "metadata": {},
   "source": [
    "### Random Mini-Batch Gradient Descent"
   ]
  },
  {
   "cell_type": "code",
   "execution_count": 46,
   "id": "478d1b42-bb35-495c-85a2-b7c002eb08d8",
   "metadata": {},
   "outputs": [],
   "source": [
    "def random_mini_batches(X, Y, mini_batch_size=64, seed=0):\n",
    "    np.random.seed(seed)\n",
    "    m = X.shape[1]\n",
    "    mini_batches = []\n",
    "    Y = Y.reshape(1, m)\n",
    "\n",
    "    permutation = list(np.random.permutation(m))\n",
    "    shuffled_X = X[:, permutation]\n",
    "    shuffled_Y = Y[:, permutation]\n",
    "\n",
    "    total_mini_batches = math.floor(m/mini_batch_size)\n",
    "\n",
    "    for k in range(total_mini_batches):\n",
    "        batch_X = shuffled_X[:, k*mini_batch_size:((k+1)*mini_batch_size)]\n",
    "        batch_Y = shuffled_Y[:, k*mini_batch_size:((k+1)*mini_batch_size)]\n",
    "        \n",
    "        mini_batch = (batch_X, batch_Y)\n",
    "        mini_batches.append(mini_batch)\n",
    "\n",
    "    if m % mini_batch_size != 0:\n",
    "        j = (m % mini_batch_size)\n",
    "        last_batch_X = shuffled_X[:, -j:]\n",
    "        last_batch_Y = shuffled_Y[:, -j:]\n",
    "        \n",
    "        last_mini_batch = (last_batch_X, last_batch_Y)\n",
    "        mini_batches.append(last_mini_batch)\n",
    "    return mini_batches"
   ]
  },
  {
   "cell_type": "markdown",
   "id": "b407e89c-f5c6-4dfc-80cf-b9be0d98cd57",
   "metadata": {},
   "source": [
    "### Momentum"
   ]
  },
  {
   "cell_type": "code",
   "execution_count": 54,
   "id": "2ea6515f-0b86-4ce9-9ecc-c61b3662d08c",
   "metadata": {},
   "outputs": [],
   "source": [
    "def initialize_velocity(parameters):\n",
    "    L = len(parameters)//2\n",
    "    v = {}\n",
    "\n",
    "    for l in range(1, L+1):\n",
    "        v[\"dW\"+str(l)] = np.zeros(parameters[\"W\"+str(l)].shape)\n",
    "        v[\"db\"+str(l)] = np.zeros(parameters[\"b\"+str(l)].shape)\n",
    "\n",
    "    return v"
   ]
  },
  {
   "cell_type": "code",
   "execution_count": 61,
   "id": "09317140-396f-4f78-a2e3-7c62fbad5e4a",
   "metadata": {},
   "outputs": [],
   "source": [
    "def update_parameters_with_momentum(parameters, grads, v, beta, learning_rate):\n",
    "    L=len(parameters)//2\n",
    "\n",
    "    for l in range(1, L+1):\n",
    "        v[\"dW\"+str(l)] = (beta*v[\"dW\"+str(l)]) + ((1-beta)*grads[\"dW\"+str(l)])\n",
    "        parameters[\"W\"+str(l)] = parameters[\"W\"+str(l)] - (learning_rate * v[\"dW\"+str(l)])\n",
    "        v[\"db\"+str(l)] = (beta*v[\"db\"+str(l)]) + ((1-beta)*grads[\"db\"+str(l)])\n",
    "        parameters[\"b\"+str(l)] = parameters[\"b\"+str(l)] - (learning_rate * v[\"db\"+str(l)])\n",
    "\n",
    "    return parameters, v"
   ]
  },
  {
   "cell_type": "markdown",
   "id": "fe404b06-5a20-4aee-ab9f-c3c7c08e8783",
   "metadata": {},
   "source": [
    "### Adam Optimizer"
   ]
  },
  {
   "cell_type": "code",
   "execution_count": 63,
   "id": "1c44ebec-f9fa-4688-9c0f-b08080b03c1e",
   "metadata": {},
   "outputs": [],
   "source": [
    "def initialize_adam(parameters):\n",
    "    L = len(parameters)//2\n",
    "    v = {}\n",
    "    s = {}\n",
    "\n",
    "    for l in range(1, L+1):\n",
    "        v[\"dW\"+str(l)] = np.zeros(parameters[\"W\"+str(l)].shape)\n",
    "        s[\"dW\"+str(l)] = np.zeros(parameters[\"W\"+str(l)].shape)\n",
    "        v[\"db\"+str(l)] = np.zeros(parameters[\"b\"+str(l)].shape)\n",
    "        s[\"db\"+str(l)] = np.zeros(parameters[\"b\"+str(l)].shape)\n",
    "\n",
    "    return v, s"
   ]
  },
  {
   "cell_type": "code",
   "execution_count": 75,
   "id": "7a25996d-86cd-4e46-b174-3baa0326271d",
   "metadata": {},
   "outputs": [],
   "source": [
    "def update_parameters_with_adam(parameters, grads, v, s, t, learning_rate= 0.01, beta1=0.9, beta2=0.999, epsilon= 1e-8):\n",
    "    L = len(parameters)//2\n",
    "    v_corrected = {}\n",
    "    s_corrected = {}\n",
    "\n",
    "    for l in range(1, L+1):\n",
    "        v[\"dW\"+str(l)] = (beta1*v[\"dW\"+str(l)]) + ((1-beta1)*grads[\"dW\"+str(l)])\n",
    "        v[\"db\"+str(l)] = (beta1*v[\"db\"+str(l)]) + ((1-beta1)*grads[\"db\"+str(l)])\n",
    "\n",
    "        v_corrected[\"dW\"+str(l)] = v[\"dW\"+str(l)] / (1-(beta1)**t)\n",
    "        v_corrected[\"db\"+str(l)] = v[\"db\"+str(l)] / (1-(beta1)**t)\n",
    "        \n",
    "        s[\"dW\"+str(l)] = (beta2*s[\"dW\"+str(l)]) + ((1-beta2)*grads[\"dW\"+str(l)]**2)\n",
    "        s[\"db\"+str(l)] = (beta2*s[\"db\"+str(l)]) + ((1-beta2)*grads[\"db\"+str(l)]**2)\n",
    "\n",
    "        s_corrected[\"dW\"+str(l)] = s[\"dW\"+str(l)] / (1-(beta2)**t)\n",
    "        s_corrected[\"db\"+str(l)] = s[\"db\"+str(l)] / (1-(beta2)**t)\n",
    "\n",
    "        parameters[\"W\"+str(l)] = parameters[\"W\"+str(l)] - (learning_rate * (v_corrected[\"dW\"+str(l)] / (np.sqrt(s_corrected[\"dW\"+str(l)])+epsilon)))\n",
    "        parameters[\"b\"+str(l)] = parameters[\"b\"+str(l)] - (learning_rate * (v_corrected[\"db\"+str(l)] / (np.sqrt(s_corrected[\"db\"+str(l)])+epsilon)))\n",
    "\n",
    "    \n",
    "    return parameters, v, s, v_corrected, s_corrected"
   ]
  },
  {
   "cell_type": "code",
   "execution_count": 77,
   "id": "5036f1b0-f2f2-4ab9-8510-3a9d1e9bb1a5",
   "metadata": {},
   "outputs": [],
   "source": [
    "train_X, train_Y = load_dataset()"
   ]
  },
  {
   "cell_type": "code",
   "execution_count": 78,
   "id": "186c7716-7202-418c-945d-4964c11b1272",
   "metadata": {},
   "outputs": [],
   "source": [
    "def model(X, Y, layers_dims, optimizer, learning_rate = 0.0007, mini_batch_size = 64, beta = 0.9,\n",
    "          beta1 = 0.9, beta2 = 0.999,  epsilon = 1e-8, num_epochs = 5000, print_cost = True):\n",
    "    \"\"\"\n",
    "    3-layer neural network model which can be run in different optimizer modes.\n",
    "    \n",
    "    Arguments:\n",
    "    X -- input data, of shape (2, number of examples)\n",
    "    Y -- true \"label\" vector (1 for blue dot / 0 for red dot), of shape (1, number of examples)\n",
    "    optimizer -- the optimizer to be passed, gradient descent, momentum or adam\n",
    "    layers_dims -- python list, containing the size of each layer\n",
    "    learning_rate -- the learning rate, scalar.\n",
    "    mini_batch_size -- the size of a mini batch\n",
    "    beta -- Momentum hyperparameter\n",
    "    beta1 -- Exponential decay hyperparameter for the past gradients estimates \n",
    "    beta2 -- Exponential decay hyperparameter for the past squared gradients estimates \n",
    "    epsilon -- hyperparameter preventing division by zero in Adam updates\n",
    "    num_epochs -- number of epochs\n",
    "    print_cost -- True to print the cost every 1000 epochs\n",
    "\n",
    "    Returns:\n",
    "    parameters -- python dictionary containing your updated parameters \n",
    "    \"\"\"\n",
    "\n",
    "    L = len(layers_dims)             # number of layers in the neural networks\n",
    "    costs = []                       # to keep track of the cost\n",
    "    t = 0                            # initializing the counter required for Adam update\n",
    "    seed = 10                        # For grading purposes, so that your \"random\" minibatches are the same as ours\n",
    "    m = X.shape[1]                   # number of training examples\n",
    "    \n",
    "    # Initialize parameters\n",
    "    parameters = initialize_parameters(layers_dims)\n",
    "\n",
    "    # Initialize the optimizer\n",
    "    if optimizer == \"gd\":\n",
    "        pass # no initialization required for gradient descent\n",
    "    elif optimizer == \"momentum\":\n",
    "        v = initialize_velocity(parameters)\n",
    "    elif optimizer == \"adam\":\n",
    "        v, s = initialize_adam(parameters)\n",
    "    \n",
    "    # Optimization loop\n",
    "    for i in range(num_epochs):\n",
    "        \n",
    "        # Define the random minibatches. We increment the seed to reshuffle differently the dataset after each epoch\n",
    "        seed = seed + 1\n",
    "        minibatches = random_mini_batches(X, Y, mini_batch_size, seed)\n",
    "        cost_total = 0\n",
    "        \n",
    "        for minibatch in minibatches:\n",
    "\n",
    "            # Select a minibatch\n",
    "            (minibatch_X, minibatch_Y) = minibatch\n",
    "\n",
    "            # Forward propagation\n",
    "            a3, caches = forward_propagation(minibatch_X, parameters)\n",
    "\n",
    "            # Compute cost and add to the cost total\n",
    "            cost_total += compute_cost(a3, minibatch_Y)\n",
    "\n",
    "            # Backward propagation\n",
    "            grads = backward_propagation(minibatch_X, minibatch_Y, caches)\n",
    "\n",
    "            # Update parameters\n",
    "            if optimizer == \"gd\":\n",
    "                parameters = update_parameters_with_gd(parameters, grads, learning_rate)\n",
    "            elif optimizer == \"momentum\":\n",
    "                parameters, v = update_parameters_with_momentum(parameters, grads, v, beta, learning_rate)\n",
    "            elif optimizer == \"adam\":\n",
    "                t = t + 1 # Adam counter\n",
    "                parameters, v, s, _, _ = update_parameters_with_adam(parameters, grads, v, s,\n",
    "                                                               t, learning_rate, beta1, beta2,  epsilon)\n",
    "        cost_avg = cost_total / m\n",
    "        \n",
    "        # Print the cost every 1000 epoch\n",
    "        if print_cost and i % 1000 == 0:\n",
    "            print (\"Cost after epoch %i: %f\" %(i, cost_avg))\n",
    "        if print_cost and i % 100 == 0:\n",
    "            costs.append(cost_avg)\n",
    "                \n",
    "    # plot the cost\n",
    "    plt.plot(costs)\n",
    "    plt.ylabel('cost')\n",
    "    plt.xlabel('epochs (per 100)')\n",
    "    plt.title(\"Learning rate = \" + str(learning_rate))\n",
    "    plt.show()\n",
    "\n",
    "    return parameters"
   ]
  },
  {
   "cell_type": "code",
   "execution_count": 79,
   "id": "bb02435f-591c-4c32-a9c1-f84a1dac7b6a",
   "metadata": {},
   "outputs": [
    {
     "name": "stdout",
     "output_type": "stream",
     "text": [
      "Cost after epoch 0: 0.702405\n",
      "Cost after epoch 1000: 0.668101\n",
      "Cost after epoch 2000: 0.635288\n",
      "Cost after epoch 3000: 0.600491\n",
      "Cost after epoch 4000: 0.573367\n"
     ]
    },
    {
     "data": {
      "image/png": "[encoded data removed]",
      "text/plain": [
       "<Figure size 640x480 with 1 Axes>"
      ]
     },
     "metadata": {},
     "output_type": "display_data"
    },
    {
     "ename": "AttributeError",
     "evalue": "module 'numpy' has no attribute 'int'.\n`np.int` was a deprecated alias for the builtin `int`. To avoid this error in existing code, use `int` by itself. Doing this will not modify any behavior and is safe. When replacing `np.int`, you may wish to use e.g. `np.int64` or `np.int32` to specify the precision. If you wish to review your current use, check the release note link for additional information.\nThe aliases was originally deprecated in NumPy 1.20; for more details and guidance see the original release note at:\n    https://numpy.org/devdocs/release/1.20.0-notes.html#deprecations",
     "output_type": "error",
     "traceback": [
      "\u001b[31m---------------------------------------------------------------------------\u001b[39m",
      "\u001b[31mAttributeError\u001b[39m                            Traceback (most recent call last)",
      "\u001b[36mCell\u001b[39m\u001b[36m \u001b[39m\u001b[32mIn[79]\u001b[39m\u001b[32m, line 6\u001b[39m\n\u001b[32m      3\u001b[39m parameters = model(train_X, train_Y, layers_dims, optimizer = \u001b[33m\"\u001b[39m\u001b[33mgd\u001b[39m\u001b[33m\"\u001b[39m)\n\u001b[32m      5\u001b[39m \u001b[38;5;66;03m# Predict\u001b[39;00m\n\u001b[32m----> \u001b[39m\u001b[32m6\u001b[39m predictions = predict(train_X, train_Y, parameters)\n\u001b[32m      8\u001b[39m \u001b[38;5;66;03m# Plot decision boundary\u001b[39;00m\n\u001b[32m      9\u001b[39m plt.title(\u001b[33m\"\u001b[39m\u001b[33mModel with Gradient Descent optimization\u001b[39m\u001b[33m\"\u001b[39m)\n",
      "\u001b[36mFile \u001b[39m\u001b[32m~/projects/deep_models/Basics/utils.py:704\u001b[39m, in \u001b[36mpredict\u001b[39m\u001b[34m(X, y, parameters)\u001b[39m\n\u001b[32m    692\u001b[39m \u001b[38;5;250m\u001b[39m\u001b[33;03m\"\"\"\u001b[39;00m\n\u001b[32m    693\u001b[39m \u001b[33;03mThis function is used to predict the results of a  n-layer neural network.\u001b[39;00m\n\u001b[32m    694\u001b[39m \u001b[33;03m\u001b[39;00m\n\u001b[32m   (...)\u001b[39m\u001b[32m    700\u001b[39m \u001b[33;03mp -- predictions for the given dataset X\u001b[39;00m\n\u001b[32m    701\u001b[39m \u001b[33;03m\"\"\"\u001b[39;00m\n\u001b[32m    703\u001b[39m m = X.shape[\u001b[32m1\u001b[39m]\n\u001b[32m--> \u001b[39m\u001b[32m704\u001b[39m p = np.zeros((\u001b[32m1\u001b[39m,m), dtype = np.int)\n\u001b[32m    706\u001b[39m \u001b[38;5;66;03m# Forward propagation\u001b[39;00m\n\u001b[32m    707\u001b[39m a3, caches = forward_propagation(X, parameters)\n",
      "\u001b[36mFile \u001b[39m\u001b[32m~/miniconda3/envs/ml3.11/lib/python3.11/site-packages/numpy/__init__.py:778\u001b[39m, in \u001b[36m__getattr__\u001b[39m\u001b[34m(attr)\u001b[39m\n\u001b[32m    773\u001b[39m     warnings.warn(\n\u001b[32m    774\u001b[39m         \u001b[33mf\u001b[39m\u001b[33m\"\u001b[39m\u001b[33mIn the future `np.\u001b[39m\u001b[38;5;132;01m{\u001b[39;00mattr\u001b[38;5;132;01m}\u001b[39;00m\u001b[33m` will be defined as the \u001b[39m\u001b[33m\"\u001b[39m\n\u001b[32m    775\u001b[39m         \u001b[33m\"\u001b[39m\u001b[33mcorresponding NumPy scalar.\u001b[39m\u001b[33m\"\u001b[39m, \u001b[38;5;167;01mFutureWarning\u001b[39;00m, stacklevel=\u001b[32m2\u001b[39m)\n\u001b[32m    777\u001b[39m \u001b[38;5;28;01mif\u001b[39;00m attr \u001b[38;5;129;01min\u001b[39;00m __former_attrs__:\n\u001b[32m--> \u001b[39m\u001b[32m778\u001b[39m     \u001b[38;5;28;01mraise\u001b[39;00m \u001b[38;5;167;01mAttributeError\u001b[39;00m(__former_attrs__[attr], name=\u001b[38;5;28;01mNone\u001b[39;00m)\n\u001b[32m    780\u001b[39m \u001b[38;5;28;01mif\u001b[39;00m attr \u001b[38;5;129;01min\u001b[39;00m __expired_attributes__:\n\u001b[32m    781\u001b[39m     \u001b[38;5;28;01mraise\u001b[39;00m \u001b[38;5;167;01mAttributeError\u001b[39;00m(\n\u001b[32m    782\u001b[39m         \u001b[33mf\u001b[39m\u001b[33m\"\u001b[39m\u001b[33m`np.\u001b[39m\u001b[38;5;132;01m{\u001b[39;00mattr\u001b[38;5;132;01m}\u001b[39;00m\u001b[33m` was removed in the NumPy 2.0 release. \u001b[39m\u001b[33m\"\u001b[39m\n\u001b[32m    783\u001b[39m         \u001b[33mf\u001b[39m\u001b[33m\"\u001b[39m\u001b[38;5;132;01m{\u001b[39;00m__expired_attributes__[attr]\u001b[38;5;132;01m}\u001b[39;00m\u001b[33m\"\u001b[39m,\n\u001b[32m    784\u001b[39m         name=\u001b[38;5;28;01mNone\u001b[39;00m\n\u001b[32m    785\u001b[39m     )\n",
      "\u001b[31mAttributeError\u001b[39m: module 'numpy' has no attribute 'int'.\n`np.int` was a deprecated alias for the builtin `int`. To avoid this error in existing code, use `int` by itself. Doing this will not modify any behavior and is safe. When replacing `np.int`, you may wish to use e.g. `np.int64` or `np.int32` to specify the precision. If you wish to review your current use, check the release note link for additional information.\nThe aliases was originally deprecated in NumPy 1.20; for more details and guidance see the original release note at:\n    https://numpy.org/devdocs/release/1.20.0-notes.html#deprecations"
     ]
    }
   ],
   "source": [
    "# train 3-layer model\n",
    "layers_dims = [train_X.shape[0], 5, 2, 1]\n",
    "parameters = model(train_X, train_Y, layers_dims, optimizer = \"gd\")\n",
    "\n",
    "# Predict\n",
    "predictions = predict(train_X, train_Y, parameters)\n",
    "\n",
    "# Plot decision boundary\n",
    "plt.title(\"Model with Gradient Descent optimization\")\n",
    "axes = plt.gca()\n",
    "axes.set_xlim([-1.5,2.5])\n",
    "axes.set_ylim([-1,1.5])\n",
    "plot_decision_boundary(lambda x: predict_dec(parameters, x.T), train_X, train_Y)"
   ]
  },
  {
   "cell_type": "code",
   "execution_count": null,
   "id": "eb47588a-a276-4b60-8055-64ef5dc53ff5",
   "metadata": {},
   "outputs": [],
   "source": []
  }
 ],
 "metadata": {
  "kernelspec": {
   "display_name": "Python 3.11 (ML)",
   "language": "python",
   "name": "ml3.11"
  },
  "language_info": {
   "codemirror_mode": {
    "name": "ipython",
    "version": 3
   },
   "file_extension": ".py",
   "mimetype": "text/x-python",
   "name": "python",
   "nbconvert_exporter": "python",
   "pygments_lexer": "ipython3",
   "version": "3.11.13"
  }
 },
 "nbformat": 4,
 "nbformat_minor": 5
}
