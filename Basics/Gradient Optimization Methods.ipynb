{
 "cells": [
  {
   "cell_type": "code",
   "execution_count": 1,
   "id": "099915a3-4195-4790-965c-ee362d6d48ba",
   "metadata": {},
   "outputs": [],
   "source": [
    "import numpy as np\n",
    "import matplotlib.pyplot as plt\n",
    "import scipy.io\n",
    "import math\n",
    "import sklearn\n",
    "import sklearn.datasets\n",
    "\n",
    "from copy import deepcopy\n",
    "# from utils import *\n",
    "from nn_building_blocks import *\n",
    "\n",
    "%matplotlib inline"
   ]
  },
  {
   "cell_type": "markdown",
   "id": "4727f90f-f188-47e8-a7bc-4ab3ec94ecee",
   "metadata": {},
   "source": [
    "### Batch Gradient Decsent"
   ]
  },
  {
   "cell_type": "code",
   "execution_count": 2,
   "id": "b1e3c8da-2119-450a-ad69-504841a05ea9",
   "metadata": {},
   "outputs": [],
   "source": [
    "# def update_parameters_with_gd(parameters, grads, learning_rate):\n",
    "#     L = len(parameters)//2\n",
    "\n",
    "#     for l in range(1, L+1):\n",
    "#         parameters[\"W\"+str(l)] = parameters[\"W\"+str(l)] - (learning_rate * grads[\"dW\"+str(l)])\n",
    "#         parameters[\"b\"+str(l)] = parameters[\"b\"+str(l)] - (learning_rate * grads[\"db\"+str(l)])\n",
    "\n",
    "#     return parameters"
   ]
  },
  {
   "cell_type": "markdown",
   "id": "7c91dd57-6510-42da-95c7-fa0ab350c30d",
   "metadata": {},
   "source": [
    "### Random Mini-Batch Gradient Descent"
   ]
  },
  {
   "cell_type": "code",
   "execution_count": 3,
   "id": "478d1b42-bb35-495c-85a2-b7c002eb08d8",
   "metadata": {},
   "outputs": [],
   "source": [
    "# def random_mini_batches(X, Y, mini_batch_size=64, seed=0):\n",
    "#     np.random.seed(seed)\n",
    "#     m = X.shape[1]\n",
    "#     mini_batches = []\n",
    "#     Y = Y.reshape(1, m)\n",
    "\n",
    "#     permutation = list(np.random.permutation(m))\n",
    "#     shuffled_X = X[:, permutation]\n",
    "#     shuffled_Y = Y[:, permutation]\n",
    "\n",
    "#     total_mini_batches = math.floor(m/mini_batch_size)\n",
    "\n",
    "#     for k in range(total_mini_batches):\n",
    "#         batch_X = shuffled_X[:, k*mini_batch_size:((k+1)*mini_batch_size)]\n",
    "#         batch_Y = shuffled_Y[:, k*mini_batch_size:((k+1)*mini_batch_size)]\n",
    "        \n",
    "#         mini_batch = (batch_X, batch_Y)\n",
    "#         mini_batches.append(mini_batch)\n",
    "\n",
    "#     if m % mini_batch_size != 0:\n",
    "#         j = (m % mini_batch_size)\n",
    "#         last_batch_X = shuffled_X[:, -j:]\n",
    "#         last_batch_Y = shuffled_Y[:, -j:]\n",
    "        \n",
    "#         last_mini_batch = (last_batch_X, last_batch_Y)\n",
    "#         mini_batches.append(last_mini_batch)\n",
    "#     return mini_batches"
   ]
  },
  {
   "cell_type": "markdown",
   "id": "b407e89c-f5c6-4dfc-80cf-b9be0d98cd57",
   "metadata": {},
   "source": [
    "### Momentum"
   ]
  },
  {
   "cell_type": "code",
   "execution_count": 4,
   "id": "2ea6515f-0b86-4ce9-9ecc-c61b3662d08c",
   "metadata": {},
   "outputs": [],
   "source": [
    "# def initialize_velocity(parameters):\n",
    "#     L = len(parameters)//2\n",
    "#     v = {}\n",
    "\n",
    "#     for l in range(1, L+1):\n",
    "#         v[\"dW\"+str(l)] = np.zeros(parameters[\"W\"+str(l)].shape)\n",
    "#         v[\"db\"+str(l)] = np.zeros(parameters[\"b\"+str(l)].shape)\n",
    "\n",
    "#     return v"
   ]
  },
  {
   "cell_type": "code",
   "execution_count": 5,
   "id": "09317140-396f-4f78-a2e3-7c62fbad5e4a",
   "metadata": {},
   "outputs": [],
   "source": [
    "# def update_parameters_with_momentum(parameters, grads, v, beta, learning_rate):\n",
    "#     L=len(parameters)//2\n",
    "\n",
    "#     for l in range(1, L+1):\n",
    "#         v[\"dW\"+str(l)] = (beta*v[\"dW\"+str(l)]) + ((1-beta)*grads[\"dW\"+str(l)])\n",
    "#         parameters[\"W\"+str(l)] = parameters[\"W\"+str(l)] - (learning_rate * v[\"dW\"+str(l)])\n",
    "#         v[\"db\"+str(l)] = (beta*v[\"db\"+str(l)]) + ((1-beta)*grads[\"db\"+str(l)])\n",
    "#         parameters[\"b\"+str(l)] = parameters[\"b\"+str(l)] - (learning_rate * v[\"db\"+str(l)])\n",
    "\n",
    "#     return parameters, v"
   ]
  },
  {
   "cell_type": "markdown",
   "id": "fe404b06-5a20-4aee-ab9f-c3c7c08e8783",
   "metadata": {},
   "source": [
    "### Adam Optimizer"
   ]
  },
  {
   "cell_type": "code",
   "execution_count": 6,
   "id": "1c44ebec-f9fa-4688-9c0f-b08080b03c1e",
   "metadata": {},
   "outputs": [],
   "source": [
    "# def initialize_adam(parameters):\n",
    "#     L = len(parameters)//2\n",
    "#     v = {}\n",
    "#     s = {}\n",
    "\n",
    "#     for l in range(1, L+1):\n",
    "#         v[\"dW\"+str(l)] = np.zeros(parameters[\"W\"+str(l)].shape)\n",
    "#         s[\"dW\"+str(l)] = np.zeros(parameters[\"W\"+str(l)].shape)\n",
    "#         v[\"db\"+str(l)] = np.zeros(parameters[\"b\"+str(l)].shape)\n",
    "#         s[\"db\"+str(l)] = np.zeros(parameters[\"b\"+str(l)].shape)\n",
    "\n",
    "#     return v, s"
   ]
  },
  {
   "cell_type": "code",
   "execution_count": 7,
   "id": "7a25996d-86cd-4e46-b174-3baa0326271d",
   "metadata": {},
   "outputs": [],
   "source": [
    "# def update_parameters_with_adam(parameters, grads, v, s, t, learning_rate= 0.01, beta1=0.9, beta2=0.999, epsilon= 1e-8):\n",
    "#     L = len(parameters)//2\n",
    "#     v_corrected = {}\n",
    "#     s_corrected = {}\n",
    "\n",
    "#     for l in range(1, L+1):\n",
    "#         v[\"dW\"+str(l)] = (beta1*v[\"dW\"+str(l)]) + ((1-beta1)*grads[\"dW\"+str(l)])\n",
    "#         v[\"db\"+str(l)] = (beta1*v[\"db\"+str(l)]) + ((1-beta1)*grads[\"db\"+str(l)])\n",
    "\n",
    "#         v_corrected[\"dW\"+str(l)] = v[\"dW\"+str(l)] / (1-(beta1)**t)\n",
    "#         v_corrected[\"db\"+str(l)] = v[\"db\"+str(l)] / (1-(beta1)**t)\n",
    "        \n",
    "#         s[\"dW\"+str(l)] = (beta2*s[\"dW\"+str(l)]) + ((1-beta2)*grads[\"dW\"+str(l)]**2)\n",
    "#         s[\"db\"+str(l)] = (beta2*s[\"db\"+str(l)]) + ((1-beta2)*grads[\"db\"+str(l)]**2)\n",
    "\n",
    "#         s_corrected[\"dW\"+str(l)] = s[\"dW\"+str(l)] / (1-(beta2)**t)\n",
    "#         s_corrected[\"db\"+str(l)] = s[\"db\"+str(l)] / (1-(beta2)**t)\n",
    "\n",
    "#         parameters[\"W\"+str(l)] = parameters[\"W\"+str(l)] - (learning_rate * (v_corrected[\"dW\"+str(l)] / (np.sqrt(s_corrected[\"dW\"+str(l)])+epsilon)))\n",
    "#         parameters[\"b\"+str(l)] = parameters[\"b\"+str(l)] - (learning_rate * (v_corrected[\"db\"+str(l)] / (np.sqrt(s_corrected[\"db\"+str(l)])+epsilon)))\n",
    "\n",
    "    \n",
    "#     return parameters, v, s, v_corrected, s_corrected"
   ]
  },
  {
   "cell_type": "code",
   "execution_count": 8,
   "id": "5036f1b0-f2f2-4ab9-8510-3a9d1e9bb1a5",
   "metadata": {},
   "outputs": [],
   "source": [
    "data = scipy.io.loadmat('datasets/data.mat')\n",
    "train_X = data['X'].T\n",
    "train_Y = data['y'].T\n",
    "test_X = data['Xval'].T\n",
    "test_Y = data['yval'].T"
   ]
  },
  {
   "cell_type": "code",
   "execution_count": 18,
   "id": "87ed4532-433d-4793-a5ed-b2d8ca2336c0",
   "metadata": {},
   "outputs": [
    {
     "data": {
      "text/plain": [
       "(2, 211)"
      ]
     },
     "execution_count": 18,
     "metadata": {},
     "output_type": "execute_result"
    }
   ],
   "source": [
    "train_X.shape"
   ]
  },
  {
   "cell_type": "code",
   "execution_count": 19,
   "id": "186c7716-7202-418c-945d-4964c11b1272",
   "metadata": {},
   "outputs": [],
   "source": [
    "def model(X, Y, layers_dims, optimizer, learning_rate = 0.0007, mini_batch_size = 64, beta = 0.9,\n",
    "          beta1 = 0.9, beta2 = 0.999,  epsilon = 1e-8, num_epochs = 5000, print_cost = True, decay=schedule_lr_decay, decay_rate=1):\n",
    "\n",
    "    L = len(layers_dims)             \n",
    "    costs = []                       \n",
    "    t = 0                            \n",
    "    seed = 10                        \n",
    "    m = X.shape[1]                  \n",
    "    lr_rates = []\n",
    "    learning_rate0 = learning_rate   \n",
    "    \n",
    "    parameters = initialize_parameters_deep(layers_dims)\n",
    "\n",
    "    if optimizer == \"gd\":\n",
    "        pass \n",
    "    elif optimizer == \"momentum\":\n",
    "        v = initialize_velocity(parameters)\n",
    "    elif optimizer == \"adam\":\n",
    "        v, s = initialize_adam(parameters)\n",
    "\n",
    "    \n",
    "    for i in range(num_epochs):\n",
    "        \n",
    "        seed = seed + 1\n",
    "        minibatches = random_mini_batches(X, Y, mini_batch_size, seed)\n",
    "        cost_total = 0\n",
    "        \n",
    "        for minibatch in minibatches:\n",
    "\n",
    "            \n",
    "            (minibatch_X, minibatch_Y) = minibatch\n",
    "            print(minibatch_X.shape)\n",
    "            print(minibatch_Y.shape)\n",
    "            \n",
    "            a3, caches = forward_propagation(minibatch_X, parameters)\n",
    "\n",
    "            \n",
    "            cost_total += compute_cost(a3, minibatch_Y)\n",
    "\n",
    "            \n",
    "            grads = gradient_checking_backward_propagation(minibatch_X, minibatch_Y, caches)\n",
    "\n",
    "            \n",
    "            if optimizer == \"gd\":\n",
    "                parameters = update_parameters(parameters, grads, learning_rate)\n",
    "            elif optimizer == \"momentum\":\n",
    "                parameters, v = update_parameters_with_momentum(parameters, grads, v, beta, learning_rate)\n",
    "            elif optimizer == \"adam\":\n",
    "                t = t + 1 # Adam counter\n",
    "                parameters, v, s, _, _ = update_parameters_with_adam(parameters, grads, v, s,\n",
    "                                                               t, learning_rate, beta1, beta2,  epsilon)\n",
    "        cost_avg = cost_total / m\n",
    "        if decay:\n",
    "            learning_rate = decay(learning_rate0, i, decay_rate)\n",
    "       \n",
    "        if print_cost and i % 1000 == 0:\n",
    "            print (\"Cost after epoch %i: %f\" %(i, cost_avg))\n",
    "            if decay:\n",
    "                print(\"learning rate after epoch %i: %f\"%(i, learning_rate))\n",
    "        if print_cost and i % 100 == 0:\n",
    "            costs.append(cost_avg)\n",
    "                \n",
    "    # plot the cost\n",
    "    plt.plot(costs)\n",
    "    plt.ylabel('cost')\n",
    "    plt.xlabel('epochs (per 100)')\n",
    "    plt.title(\"Learning rate = \" + str(learning_rate))\n",
    "    plt.show()\n",
    "\n",
    "    return parameters"
   ]
  },
  {
   "cell_type": "code",
   "execution_count": 20,
   "id": "75400505-846d-4572-9667-770fe96fc6d2",
   "metadata": {},
   "outputs": [],
   "source": [
    "# def update_lr(learning_r, epoch, decay_rate):\n",
    "#     learning_rate = 1/(1+decay_rate*epoch)*learning_r\n",
    "#     return learning_rate"
   ]
  },
  {
   "cell_type": "code",
   "execution_count": 21,
   "id": "9e51e1ed-0b35-4246-aaa9-f9d0c8d89619",
   "metadata": {},
   "outputs": [],
   "source": [
    "# def schedule_lr_decay(learning_r, epoch, decay_rate, time_interval=1000):\n",
    "#     learning_rate = 1/(1+decay_rate*np.floor(epoch/time_interval))*learning_r\n",
    "#     return learning_rate"
   ]
  },
  {
   "cell_type": "code",
   "execution_count": 23,
   "id": "10f2b1d9-292f-42ff-bda6-e602580fb67c",
   "metadata": {},
   "outputs": [
    {
     "name": "stdout",
     "output_type": "stream",
     "text": [
      "(2, 64)\n",
      "(1, 64)\n",
      "(2, 64)\n",
      "(1, 64)\n",
      "(2, 64)\n",
      "(1, 64)\n",
      "(2, 19)\n",
      "(1, 19)\n",
      "Cost after epoch 0: 0.013140\n",
      "learning rate after epoch 0: 0.010000\n"
     ]
    },
    {
     "data": {
      "image/png": "[encoded data removed]",
      "text/plain": [
       "<Figure size 640x480 with 1 Axes>"
      ]
     },
     "metadata": {},
     "output_type": "display_data"
    },
    {
     "name": "stdout",
     "output_type": "stream",
     "text": [
      "Accuracy: 0.49763033175355453\n"
     ]
    },
    {
     "data": {
      "text/plain": [
       "(-1.0, 1.5)"
      ]
     },
     "execution_count": 23,
     "metadata": {},
     "output_type": "execute_result"
    }
   ],
   "source": [
    "layers_dims = [train_X.shape[0], 5, 2, 1]\n",
    "parameters = model(train_X, train_Y, layers_dims, optimizer = \"gd\", learning_rate = 0.01, num_epochs=1, decay=schedule_lr_decay)\n",
    "\n",
    "predictions = predict(train_X, train_Y, parameters)\n",
    "\n",
    "plt.title(\"Model with Adam optimization\")\n",
    "axes = plt.gca()\n",
    "axes.set_xlim([-1.5,2.5])\n",
    "axes.set_ylim([-1,1.5])\n",
    "# plot_decision_boundary(lambda x: predict_dec(parameters, x.T), train_X, train_Y)"
   ]
  },
  {
   "cell_type": "code",
   "execution_count": null,
   "id": "c337b9b4-13af-431d-89c3-62d936b3bc1d",
   "metadata": {},
   "outputs": [],
   "source": []
  }
 ],
 "metadata": {
  "kernelspec": {
   "display_name": "Python 3.11 (ML)",
   "language": "python",
   "name": "ml3.11"
  },
  "language_info": {
   "codemirror_mode": {
    "name": "ipython",
    "version": 3
   },
   "file_extension": ".py",
   "mimetype": "text/x-python",
   "name": "python",
   "nbconvert_exporter": "python",
   "pygments_lexer": "ipython3",
   "version": "3.11.13"
  }
 },
 "nbformat": 4,
 "nbformat_minor": 5
}
